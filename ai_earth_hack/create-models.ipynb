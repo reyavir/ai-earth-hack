{
 "cells": [
  {
   "cell_type": "code",
   "execution_count": 14,
   "id": "58e07c89",
   "metadata": {},
   "outputs": [],
   "source": [
    "import os\n",
    "import dotenv\n",
    "\n",
    "import streamlit as st\n",
    "from openai import OpenAI\n",
    "import requests"
   ]
  },
  {
   "cell_type": "code",
   "execution_count": 10,
   "id": "f528f7c6",
   "metadata": {},
   "outputs": [],
   "source": [
    "# Takes CSV file as input for the rubric (with specific format)\n",
    "\n",
    "# Create standardized prompt for each category"
   ]
  },
  {
   "cell_type": "code",
   "execution_count": null,
   "id": "70378608",
   "metadata": {},
   "outputs": [],
   "source": [
    "# Turns rubric that txt file user uploads into a string format for the prompt\n",
    "def process_rubric():"
   ]
  },
  {
   "cell_type": "code",
   "execution_count": 17,
   "id": "9cdeaa0d",
   "metadata": {},
   "outputs": [],
   "source": [
    "# Create prompt to evaluate an idea\n",
    "def prompt_for_expert_idea_evaluation(category, ps_pair, rubric):\n",
    "    \n",
    "    client = OpenAI(\n",
    "        api_key = os.getenv(\"OPENAI_API_KEY\")\n",
    "    )\n",
    "\n",
    "    # Format the prompt to ask GPT to pretend to be an expert in the given category\n",
    "    prompt_text = f\"\"\"\n",
    "    \n",
    "    You are an expert in {category}. You have been asked to evaluate the following business idea containing an identified problem and solution:\n",
    "    \n",
    "    {ps_pair}\n",
    "    \n",
    "    Based on the following rubric in a CSV format, rate the idea on each of the criteria based on the point system defined: \n",
    "    \n",
    "    {rubric}\n",
    "    \n",
    "    The output should contain just the point values assigned to each category separated by spaces like this '3 5 2 3'\n",
    "    \n",
    "    \"\"\"\n",
    "\n",
    "    # Call the OpenAI API\n",
    "    response = client.chat.completions.create(\n",
    "      model=\"gpt-3.5-turbo\",  # Choose the appropriate engine\n",
    "      messages=[{\"role\": \"user\", \"content\": prompt_text}],\n",
    "    )\n",
    "\n",
    "    # Return the text part of the response\n",
    "    return response.choices[0].text.strip()"
   ]
  },
  {
   "cell_type": "code",
   "execution_count": 18,
   "id": "e718db10",
   "metadata": {},
   "outputs": [],
   "source": [
    "sample_rubric = \"\"\"\n",
    "Criteria,1,2,3,4\\n\\\n",
    "Originality, Idea has common elements with no unique differentiation., Idea shows some novel thinking and differentiation., Idea is largely original, showing significant new thinking., Idea is completely unique demonstrating groundbreaking thinking.\n",
    "Feasibility, Idea has significant practical or technical obstacles., Idea is somewhat practical but faces notable challenges., Idea is fairly practical with manageable challenges., Idea is highly practical and can be implemented smoothly.\n",
    "Impact, Idea has a limited or unclear impact., Idea has a moderate impact with some tangible benefits., Idea has a significant impact with clear benefits., Idea has a transformative impact with far-reaching benefits.\n",
    "Development & Research, Idea is underdeveloped with minimal research or supporting data., Idea is somewhat developed with some research or supporting data., Idea is well-developed with substantial research or supporting data., Idea is fully developed with extensive research or supporting data.\n",
    "Scalability, Idea shows little to no potential for growth or adaptation., Idea shows some potential for growth or adaptation., Idea shows considerable potential for growth or adaptation., Idea shows extensive potential for growth or adaptation.\n",
    "\"\"\"\n",
    "\n",
    "sample_ps_pair = \"\"\"\n",
    "Problem: Single-use plastic packaging has become an all-too-common sight in our environment, resulting in detrimental environmental impacts. Studies show that approximately 8.3 billion tonnes of plastic have been produced since 1950, and 60% of that plastic ends up in either our landfills or the natural environment. This contributes greatly to pollution, harms wildlife, affects human health, and exacerbates climate change.   \n",
    "Solution: To alleviate this problem, we propose developing a consumer-friendly, easy-to-use app that manages and optimises the reverse logistics of packaging. Imagine this: when purchasing a product, consumers will pay a one-time fee for reusable packaging. After use, they can return the empty packaging via designated collection points or direct pickup services. The app will facilitate this process by tracking, scheduling pickups or locating nearby collection points. The packaging is then cleaned and reused, thereby reducing the need for new plastic production and ensuring the packaging circulates within the economy, instead of ending up as waste. This app will not only help consumers make more sustainable choices but also incentivise producers to shift towards a circular economy model.\n",
    "\"\"\""
   ]
  },
  {
   "cell_type": "code",
   "execution_count": 19,
   "id": "15bd2d3b",
   "metadata": {},
   "outputs": [
    {
     "ename": "OpenAIError",
     "evalue": "The api_key client option must be set either by passing api_key to the client or by setting the OPENAI_API_KEY environment variable",
     "output_type": "error",
     "traceback": [
      "\u001b[0;31m---------------------------------------------------------------------------\u001b[0m",
      "\u001b[0;31mOpenAIError\u001b[0m                               Traceback (most recent call last)",
      "Cell \u001b[0;32mIn[19], line 1\u001b[0m\n\u001b[0;32m----> 1\u001b[0m \u001b[38;5;28mprint\u001b[39m(\u001b[43mprompt_for_expert_idea_evaluation\u001b[49m\u001b[43m(\u001b[49m\u001b[38;5;124;43m\"\u001b[39;49m\u001b[38;5;124;43mWaste Management\u001b[39;49m\u001b[38;5;124;43m\"\u001b[39;49m\u001b[43m,\u001b[49m\u001b[43m \u001b[49m\u001b[43msample_rubric\u001b[49m\u001b[43m,\u001b[49m\u001b[43m \u001b[49m\u001b[43msample_ps_pair\u001b[49m\u001b[43m)\u001b[49m)\n",
      "Cell \u001b[0;32mIn[17], line 4\u001b[0m, in \u001b[0;36mprompt_for_expert_idea_evaluation\u001b[0;34m(category, ps_pair, rubric)\u001b[0m\n\u001b[1;32m      2\u001b[0m \u001b[38;5;28;01mdef\u001b[39;00m \u001b[38;5;21mprompt_for_expert_idea_evaluation\u001b[39m(category, ps_pair, rubric):\n\u001b[0;32m----> 4\u001b[0m     client \u001b[38;5;241m=\u001b[39m \u001b[43mOpenAI\u001b[49m\u001b[43m(\u001b[49m\n\u001b[1;32m      5\u001b[0m \u001b[43m        \u001b[49m\u001b[43mapi_key\u001b[49m\u001b[43m \u001b[49m\u001b[38;5;241;43m=\u001b[39;49m\u001b[43m \u001b[49m\u001b[43mos\u001b[49m\u001b[38;5;241;43m.\u001b[39;49m\u001b[43mgetenv\u001b[49m\u001b[43m(\u001b[49m\u001b[38;5;124;43m\"\u001b[39;49m\u001b[38;5;124;43mOPENAI_API_KEY\u001b[39;49m\u001b[38;5;124;43m\"\u001b[39;49m\u001b[43m)\u001b[49m\n\u001b[1;32m      6\u001b[0m \u001b[43m    \u001b[49m\u001b[43m)\u001b[49m\n\u001b[1;32m      8\u001b[0m     \u001b[38;5;66;03m# Format the prompt to ask GPT to pretend to be an expert in the given category\u001b[39;00m\n\u001b[1;32m      9\u001b[0m     prompt_text \u001b[38;5;241m=\u001b[39m \u001b[38;5;124mf\u001b[39m\u001b[38;5;124m\"\"\"\u001b[39m\n\u001b[1;32m     10\u001b[0m \u001b[38;5;124m    \u001b[39m\n\u001b[1;32m     11\u001b[0m \u001b[38;5;124m    You are an expert in \u001b[39m\u001b[38;5;132;01m{\u001b[39;00mcategory\u001b[38;5;132;01m}\u001b[39;00m\u001b[38;5;124m. You have been asked to evaluate the following business idea containing an identified problem and solution:\u001b[39m\n\u001b[0;32m   (...)\u001b[0m\n\u001b[1;32m     20\u001b[0m \u001b[38;5;124m    \u001b[39m\n\u001b[1;32m     21\u001b[0m \u001b[38;5;124m    \u001b[39m\u001b[38;5;124m\"\"\"\u001b[39m\n",
      "File \u001b[0;32m~/opt/miniconda3/envs/oai-rag/lib/python3.9/site-packages/openai/_client.py:92\u001b[0m, in \u001b[0;36m__init__\u001b[0;34m(self, api_key, organization, base_url, timeout, max_retries, default_headers, default_query, http_client, _strict_response_validation)\u001b[0m\n",
      "\u001b[0;31mOpenAIError\u001b[0m: The api_key client option must be set either by passing api_key to the client or by setting the OPENAI_API_KEY environment variable"
     ]
    }
   ],
   "source": [
    "print(prompt_for_expert_idea_evaluation(\"Waste Management\", sample_rubric, sample_ps_pair))"
   ]
  },
  {
   "cell_type": "code",
   "execution_count": null,
   "id": "d7c3c9ca",
   "metadata": {},
   "outputs": [],
   "source": [
    "def prompt_for_business_team_evaluation(roles, ps_pair, rubric):"
   ]
  },
  {
   "cell_type": "code",
   "execution_count": 11,
   "id": "a343ccdb",
   "metadata": {},
   "outputs": [
    {
     "name": "stdout",
     "output_type": "stream",
     "text": [
      "Collecting openai==0.28\n",
      "  Using cached openai-0.28.0-py3-none-any.whl.metadata (13 kB)\n",
      "Requirement already satisfied: requests>=2.20 in /Users/stellajia/opt/miniconda3/envs/oai-rag/lib/python3.9/site-packages (from openai==0.28) (2.31.0)\n",
      "Requirement already satisfied: tqdm in /Users/stellajia/opt/miniconda3/envs/oai-rag/lib/python3.9/site-packages (from openai==0.28) (4.66.1)\n",
      "Collecting aiohttp (from openai==0.28)\n",
      "  Downloading aiohttp-3.9.1-cp39-cp39-macosx_10_9_x86_64.whl.metadata (7.4 kB)\n",
      "Requirement already satisfied: charset-normalizer<4,>=2 in /Users/stellajia/opt/miniconda3/envs/oai-rag/lib/python3.9/site-packages (from requests>=2.20->openai==0.28) (3.3.2)\n",
      "Requirement already satisfied: idna<4,>=2.5 in /Users/stellajia/opt/miniconda3/envs/oai-rag/lib/python3.9/site-packages (from requests>=2.20->openai==0.28) (3.6)\n",
      "Requirement already satisfied: urllib3<3,>=1.21.1 in /Users/stellajia/opt/miniconda3/envs/oai-rag/lib/python3.9/site-packages (from requests>=2.20->openai==0.28) (2.1.0)\n",
      "Requirement already satisfied: certifi>=2017.4.17 in /Users/stellajia/opt/miniconda3/envs/oai-rag/lib/python3.9/site-packages (from requests>=2.20->openai==0.28) (2023.11.17)\n",
      "Requirement already satisfied: attrs>=17.3.0 in /Users/stellajia/opt/miniconda3/envs/oai-rag/lib/python3.9/site-packages (from aiohttp->openai==0.28) (23.2.0)\n",
      "Collecting multidict<7.0,>=4.5 (from aiohttp->openai==0.28)\n",
      "  Downloading multidict-6.0.4-cp39-cp39-macosx_10_9_x86_64.whl (29 kB)\n",
      "Collecting yarl<2.0,>=1.0 (from aiohttp->openai==0.28)\n",
      "  Downloading yarl-1.9.4-cp39-cp39-macosx_10_9_x86_64.whl.metadata (31 kB)\n",
      "Collecting frozenlist>=1.1.1 (from aiohttp->openai==0.28)\n",
      "  Downloading frozenlist-1.4.1-cp39-cp39-macosx_10_9_x86_64.whl.metadata (12 kB)\n",
      "Collecting aiosignal>=1.1.2 (from aiohttp->openai==0.28)\n",
      "  Using cached aiosignal-1.3.1-py3-none-any.whl (7.6 kB)\n",
      "Collecting async-timeout<5.0,>=4.0 (from aiohttp->openai==0.28)\n",
      "  Using cached async_timeout-4.0.3-py3-none-any.whl.metadata (4.2 kB)\n",
      "Using cached openai-0.28.0-py3-none-any.whl (76 kB)\n",
      "Downloading aiohttp-3.9.1-cp39-cp39-macosx_10_9_x86_64.whl (397 kB)\n",
      "\u001b[2K   \u001b[90m━━━━━━━━━━━━━━━━━━━━━━━━━━━━━━━━━━━━━━━━\u001b[0m \u001b[32m397.9/397.9 kB\u001b[0m \u001b[31m3.5 MB/s\u001b[0m eta \u001b[36m0:00:00\u001b[0m00:01\u001b[0m00:01\u001b[0m\n",
      "\u001b[?25hUsing cached async_timeout-4.0.3-py3-none-any.whl (5.7 kB)\n",
      "Downloading frozenlist-1.4.1-cp39-cp39-macosx_10_9_x86_64.whl (55 kB)\n",
      "\u001b[2K   \u001b[90m━━━━━━━━━━━━━━━━━━━━━━━━━━━━━━━━━━━━━━━━\u001b[0m \u001b[32m55.2/55.2 kB\u001b[0m \u001b[31m7.4 MB/s\u001b[0m eta \u001b[36m0:00:00\u001b[0m\n",
      "\u001b[?25hDownloading yarl-1.9.4-cp39-cp39-macosx_10_9_x86_64.whl (83 kB)\n",
      "\u001b[2K   \u001b[90m━━━━━━━━━━━━━━━━━━━━━━━━━━━━━━━━━━━━━━━━\u001b[0m \u001b[32m83.7/83.7 kB\u001b[0m \u001b[31m10.4 MB/s\u001b[0m eta \u001b[36m0:00:00\u001b[0m\n",
      "\u001b[?25hInstalling collected packages: multidict, frozenlist, async-timeout, yarl, aiosignal, aiohttp, openai\n",
      "  Attempting uninstall: openai\n",
      "    Found existing installation: openai 1.6.1\n",
      "    Uninstalling openai-1.6.1:\n",
      "      Successfully uninstalled openai-1.6.1\n",
      "Successfully installed aiohttp-3.9.1 aiosignal-1.3.1 async-timeout-4.0.3 frozenlist-1.4.1 multidict-6.0.4 openai-0.28.0 yarl-1.9.4\n",
      "Note: you may need to restart the kernel to use updated packages.\n"
     ]
    }
   ],
   "source": [
    "pip install openai==0.28"
   ]
  }
 ],
 "metadata": {
  "kernelspec": {
   "display_name": "Python 3 (ipykernel)",
   "language": "python",
   "name": "python3"
  },
  "language_info": {
   "codemirror_mode": {
    "name": "ipython",
    "version": 3
   },
   "file_extension": ".py",
   "mimetype": "text/x-python",
   "name": "python",
   "nbconvert_exporter": "python",
   "pygments_lexer": "ipython3",
   "version": "3.9.18"
  }
 },
 "nbformat": 4,
 "nbformat_minor": 5
}
