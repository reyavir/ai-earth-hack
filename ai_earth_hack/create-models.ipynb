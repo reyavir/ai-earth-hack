{
 "cells": [
  {
   "cell_type": "code",
   "execution_count": 55,
   "id": "58e07c89",
   "metadata": {},
   "outputs": [],
   "source": [
    "import os\n",
    "import dotenv\n",
    "\n",
    "import streamlit as st\n",
    "from openai import OpenAI\n",
    "import requests\n",
    "import re"
   ]
  },
  {
   "cell_type": "code",
   "execution_count": 3,
   "id": "58dd2d6b",
   "metadata": {},
   "outputs": [],
   "source": [
    "OPENAI_API_KEY = os.getenv(\"OPENAI_API_KEY\")  # if the key already exists in the environment variables, it will use that, otherwise it will use the .env file to get the key\n",
    "if not OPENAI_API_KEY:\n",
    "    dotenv.load_dotenv(\".env\")\n",
    "    OPENAI_API_KEY = os.getenv(\"OPENAI_API_KEY\")"
   ]
  },
  {
   "cell_type": "code",
   "execution_count": 45,
   "id": "2d1cdd7c",
   "metadata": {},
   "outputs": [],
   "source": [
    "# ps_pair should be a single string connect the \"problem\" and \"solution\" value by a newline \n",
    "def identify_domain(ps_pair):\n",
    "    \n",
    "    client = OpenAI(\n",
    "        api_key = OPENAI_API_KEY\n",
    "    )\n",
    "    \n",
    "    prompt_text = f\"\"\"\n",
    "    You are a text classifier model. Given the following domains, identify which domains of expertise the following problem solution pairs fall into and output should only be the identified domains separating each with commas (no other text).\n",
    "    \n",
    "Domains:\n",
    "    \n",
    "Fashion\n",
    "Water\n",
    "Energy\n",
    "Manufacturing\n",
    "Waste Management\n",
    "Construction\n",
    "Technology\n",
    "Transportation\n",
    "Agriculture\n",
    "Education \n",
    "\n",
    "Problem-Solution Pair:\n",
    "{ps_pair}\n",
    "    \"\"\"\n",
    "    \n",
    "    # Call the OpenAI API\n",
    "    response = client.chat.completions.create(\n",
    "      model=\"gpt-3.5-turbo\",  # Choose the appropriate engine\n",
    "      messages=[{\"role\": \"user\", \"content\": prompt_text}],\n",
    "    )\n",
    "\n",
    "    # Return the text part of the response\n",
    "    return response.choices[0].message.content\n",
    "    "
   ]
  },
  {
   "cell_type": "code",
   "execution_count": 70,
   "id": "9cdeaa0d",
   "metadata": {},
   "outputs": [],
   "source": [
    "# Create prompt to evaluate an idea\n",
    "def prompt_for_domain_expert_idea_evaluation(category, ps_pair, rubric):\n",
    "    \n",
    "    client = OpenAI(\n",
    "        api_key = OPENAI_API_KEY\n",
    "    )\n",
    "\n",
    "    # Format the prompt to ask GPT to pretend to be an expert in the given category\n",
    "    prompt_text = f\"\"\"\n",
    "    \n",
    "    You are an expert in {category}. You have been asked to evaluate the following circular economy idea containing an identified problem and solution:\n",
    "    \n",
    "    {ps_pair}\n",
    "    \n",
    "    Based on the following rubric in a CSV format, rate the idea on each of the criteria (where row 1 is the option of points per criteria and the remaining rows represents the criteria itself) based on the point system defined: \n",
    "    \n",
    "    {rubric}\n",
    "    \n",
    "    The output should be in the following format:\n",
    "    \n",
    "    Originality: [chosen number rating] - [reason for rating]\n",
    "    Feasibiltiy: [chosen number rating] - [reason for rating]\n",
    "    Impact: [chosen number rating] - [reason for rating]\n",
    "    Development & Research: [chosen number rating] - [reason for rating]\n",
    "    Scalability: [chosen number rating] - [reason for rating]\n",
    "    \"\"\"\n",
    "\n",
    "    # Call the OpenAI API\n",
    "    response = client.chat.completions.create(\n",
    "      model=\"gpt-3.5-turbo\",  # Choose the appropriate engine\n",
    "      messages=[{\"role\": \"user\", \"content\": prompt_text}],\n",
    "    )\n",
    "\n",
    "    # Return the text part of the response\n",
    "    return response.choices[0].message.content"
   ]
  },
  {
   "cell_type": "code",
   "execution_count": 66,
   "id": "048e9ce0",
   "metadata": {},
   "outputs": [],
   "source": [
    "# Given then output above, extract the numbers to calculate the total score by this expert\n",
    "def extract_total_score(evaluation):\n",
    "    # Extract all numbers using regular expression\n",
    "    numbers = re.findall(r'\\d+', evaluation)\n",
    "    \n",
    "    # Convert extracted numbers to integers and calculate the sum\n",
    "    total = sum(int(number) for number in numbers)\n",
    "    \n",
    "    return total"
   ]
  },
  {
   "cell_type": "code",
   "execution_count": 71,
   "id": "d7c3c9ca",
   "metadata": {},
   "outputs": [],
   "source": [
    "def prompt_for_business_team_evaluation(team_role, ps_pair, rubric):\n",
    "    \n",
    "    client = OpenAI(\n",
    "        api_key = OPENAI_API_KEY\n",
    "    )\n",
    "\n",
    "    # Format the prompt to ask GPT to pretend to be an expert in the given category\n",
    "    prompt_text = f\"\"\"\n",
    "    \n",
    "    You are an a experienced {team_role}. You have been asked to evaluate the following circular economy idea containing an identified problem and solution:\n",
    "    \n",
    "    {ps_pair}\n",
    "    \n",
    "    Based on the following rubric in a CSV format, rate the idea on each of the criteria (where row 1 is the option of points per criteria and the remaining rows represents the criteria itself) based on the point system defined: \n",
    "    \n",
    "    {rubric}\n",
    "    \n",
    "    The output should be in the following format:\n",
    "    \n",
    "    Originality: [chosen number rating] - [reason for rating]\n",
    "    Feasibiltiy: [chosen number rating] - [reason for rating]\n",
    "    Impact: [chosen number rating] - [reason for rating]\n",
    "    Development & Research: [chosen number rating] - [reason for rating]\n",
    "    Scalability: [chosen number rating] - [reason for rating]\n",
    "    \"\"\"\n",
    "\n",
    "    # Call the OpenAI API\n",
    "    response = client.chat.completions.create(\n",
    "      model=\"gpt-3.5-turbo\",  # Choose the appropriate engine\n",
    "      messages=[{\"role\": \"user\", \"content\": prompt_text}],\n",
    "    )\n",
    "\n",
    "    # Return the text part of the response\n",
    "    return response.choices[0].message.content"
   ]
  },
  {
   "cell_type": "markdown",
   "id": "8b4f153a",
   "metadata": {},
   "source": [
    "## Testing Evaluation"
   ]
  },
  {
   "cell_type": "code",
   "execution_count": 79,
   "id": "e718db10",
   "metadata": {},
   "outputs": [],
   "source": [
    "\n",
    "sample_rubric = \"\"\"\n",
    "Originality, Idea has common elements with no unique differentiation. (1), Idea shows some novel thinking and differentiation. (2), Idea is largely original, showing significant new thinking. (3), Idea is completely unique demonstrating groundbreaking thinking. (4)\n",
    "Feasibility, Idea has significant practical or technical obstacles. (1), Idea is somewhat practical but faces notable challenges. (2), Idea is fairly practical with manageable challenges. (3), Idea is highly practical and can be implemented smoothly. (4)\n",
    "Impact, Idea has a limited or unclear impact. (1), Idea has a moderate impact with some tangible benefits. (2), Idea has a significant impact with clear benefits. (3), Idea has a transformative impact with far-reaching benefits. (4)\n",
    "Development & Research, Idea is underdeveloped with minimal research or supporting data. (1), Idea is somewhat developed with some research or supporting data. (2), Idea is well-developed with substantial research or supporting data. (3), Idea is fully developed with extensive research or supporting data. (4)\n",
    "Scalability, Idea shows little to no potential for growth or adaptation. (1), Idea shows some potential for growth or adaptation. (2), Idea shows considerable potential for growth or adaptation. (3), Idea shows extensive potential for growth or adaptation. (4)\n",
    "\"\"\"\n",
    "\n",
    "sample_ps_pair = \"\"\"\n",
    "Problem: Single-use plastic packaging has become an all-too-common sight in our environment, resulting in detrimental environmental impacts. Studies show that approximately 8.3 billion tonnes of plastic have been produced since 1950, and 60% of that plastic ends up in either our landfills or the natural environment. This contributes greatly to pollution, harms wildlife, affects human health, and exacerbates climate change.   \n",
    "Solution: To alleviate this problem, we propose developing a consumer-friendly, easy-to-use app that manages and optimises the reverse logistics of packaging. Imagine this: when purchasing a product, consumers will pay a one-time fee for reusable packaging. After use, they can return the empty packaging via designated collection points or direct pickup services. The app will facilitate this process by tracking, scheduling pickups or locating nearby collection points. The packaging is then cleaned and reused, thereby reducing the need for new plastic production and ensuring the packaging circulates within the economy, instead of ending up as waste. This app will not only help consumers make more sustainable choices but also incentivise producers to shift towards a circular economy model.\n",
    "\"\"\"\n",
    "sample_ps_pair2 = \"\"\" \n",
    "Problem: The solution is meant to solve the issue of electronic waste and reduce the heap of idle electronic products in our homes\n",
    "Solution: E waste has always been a growing problem in the world. The inclusion of circular economy techniques in our day to day life can bring about a huge change in this context. The consumer electronic goods that remains idle in our homes or is inoperative can be thought of as a means to implement the idea. If there exists a system which can collect the inoperative home consumer goods, extract the different parts like transistors, diodes, etc and make it to use in future products, I think it may reduce the problem of e waste marginally. Even if the parts are damaged, in some cases, trying to repair them can be much more cheap way than building a new component altogether. Thus even the manufacturing cost can be reduced. Also, there can be a quick supply of electronic components in the market. \n",
    "There can also be a responsible framework of second hand consumer electronic goods. Thus even the poor people can afford the best of consumer electronics without spending much from their pocket. This will include more people in the consumer electronics market which can in turn improve the market forces.\n",
    "\"\"\""
   ]
  },
  {
   "cell_type": "code",
   "execution_count": 80,
   "id": "0412d179",
   "metadata": {},
   "outputs": [],
   "source": [
    "all_evals = []\n",
    "sample_domains = identify_domain(sample_ps_pair2)\n",
    "domain_expert_eval = prompt_for_domain_expert_idea_evaluation(sample_domains, sample_rubric, sample_ps_pair2)\n",
    "all_evals.append(domain_expert_eval)\n",
    "\n",
    "team_roles = ['Product Designer', 'Business Analyst', 'Marketing Specialist', 'Supply Chain Manager']\n",
    "\n",
    "# Find evaluation for each business team role\n",
    "for role in team_roles:\n",
    "    all_evals.append(prompt_for_business_team_evaluation(role, sample_rubric, sample_ps_pair2))"
   ]
  },
  {
   "cell_type": "code",
   "execution_count": 81,
   "id": "156d37b2",
   "metadata": {},
   "outputs": [
    {
     "name": "stdout",
     "output_type": "stream",
     "text": [
      "12\n",
      "12\n",
      "13\n",
      "13\n",
      "13\n"
     ]
    }
   ],
   "source": [
    "# Calculate total score (max is 100)\n",
    "total_score = 0\n",
    "for eval in all_evals:\n",
    "    print(extract_total_score(eval))\n",
    "    total_score += extract_total_score(eval)"
   ]
  },
  {
   "cell_type": "code",
   "execution_count": 82,
   "id": "780c3661",
   "metadata": {},
   "outputs": [
    {
     "data": {
      "text/plain": [
       "63"
      ]
     },
     "execution_count": 82,
     "metadata": {},
     "output_type": "execute_result"
    }
   ],
   "source": [
    "total_score"
   ]
  },
  {
   "cell_type": "code",
   "execution_count": 83,
   "id": "e6cf3bd4",
   "metadata": {},
   "outputs": [
    {
     "data": {
      "text/plain": [
       "['Originality: 2 - The idea of using circular economy techniques to reduce e-waste is not completely unique, as it is a concept that has been explored before. However, the idea of extracting parts from inoperative home consumer goods and using them in future products shows some novel thinking and differentiation.\\n\\nFeasibility: 3 - While there may be some practical and technical obstacles to overcome, such as developing efficient systems for collecting and extracting parts from inoperative electronics, the overall idea seems fairly practical with manageable challenges. The concept of repairing damaged parts rather than building new components can also help reduce manufacturing costs.\\n\\nImpact: 2 - The idea has a moderate impact with some tangible benefits. By implementing the proposed system, there may be a marginal reduction in e-waste, as well as a more affordable option for poor people to access consumer electronics. However, the overall impact may not be significant enough to completely solve the problem of e-waste.\\n\\nDevelopment & Research: 2 - The idea is somewhat developed with some research or supporting data. While the concept of using circular economy techniques in the context of e-waste is known, additional research and development would be needed to create an effective system for collecting and extracting parts from inoperative electronics.\\n\\nScalability: 3 - The idea shows considerable potential for growth or adaptation. By establishing a responsible framework for second-hand consumer electronic goods and implementing the proposed system on a larger scale, the idea has the potential to involve more people in the consumer electronics market and improve market forces. However, further research and development would be required to ensure the scalability of the idea.',\n",
       " 'Originality: 2 - The idea of using circular economy techniques to reduce electronic waste is not unique, as it has been explored by various organizations and initiatives. However, the concept of extracting and reusing the parts of inoperative consumer electronic goods in future products does differentiate it to some extent.\\n\\nFeasibility: 3 - While there may be some practical and technical obstacles in implementing the proposed system, such as developing efficient extraction processes and ensuring the quality of reused components, it is relatively practical with manageable challenges. The idea builds upon existing practices of repair and reuse in the consumer electronics market.\\n\\nImpact: 2 - The idea has a moderate impact with some tangible benefits. By reducing electronic waste and reusing components, it can contribute to environmental sustainability. It also enables wider accessibility to consumer electronic goods for those who cannot afford new products.\\n\\nDevelopment & Research: 2 - The idea is somewhat developed with some research or supporting data. While the specific processes and systems are not fully elaborated, the general concept of circular economy and the potential benefits have been explored. Further research and development would be required to refine and implement the idea effectively.\\n\\nScalability: 3 - The idea shows considerable potential for growth or adaptation. As the demand for consumer electronic goods continues to increase, the proposed system of collecting and reusing inoperative products can be scaled up to cover a larger market. It can also be adapted to different regions and contexts, depending on local e-waste management systems.',\n",
       " 'Originality: 2 - The idea of using circular economy techniques to address electronic waste is not completely unique, as this concept has been explored and implemented in various forms. However, the suggestion of collecting inoperative consumer electronic goods and extracting usable parts is a novel approach.\\nFeasibility: 3 - The idea is fairly practical with manageable challenges. While there may be technical obstacles involved in extracting and reusing parts from inoperative electronic goods, there is existing knowledge and technology in this area that can be leveraged. The suggestion of a responsible framework for second-hand consumer electronics is also achievable, although it may require some regulatory and operational considerations.\\nImpact: 3 - The idea has a significant impact with clear benefits. By reducing electronic waste and reusing components, this solution can contribute to the overall reduction of environmental impact. It can also provide affordable consumer electronics options for underserved populations, thus promoting inclusivity and improving market forces.\\nDevelopment & Research: 2 - The idea is somewhat developed with some research or supporting data. While the concept is explained, there is a lack of specific research or data to support the feasibility and potential impact of the proposed solution. More in-depth research and analysis would be beneficial to further develop and validate the idea.\\nScalability: 3 - The idea shows considerable potential for growth or adaptation. Circular economy practices can be scaled up and applied to various industries and sectors, including consumer electronics. With the proper infrastructure and mechanisms in place, the idea has the potential to be implemented on a broader scale and adapted to different contexts.',\n",
       " 'Originality: 2 - The idea of using a circular economy approach to tackle electronic waste is not unique, as there have been similar initiatives in the past. However, the idea of extracting and reusing parts from idle consumer electronic goods is a novel approach.\\n\\nFeasibility: 3 - While there may be some challenges in implementing the idea, such as establishing a collection system for inoperative consumer goods and ensuring the quality of extracted parts, the overall concept is practical and can be achieved with manageable challenges.\\n\\nImpact: 3 - The idea has a significant impact with clear benefits. By reducing electronic waste and reusing parts, it can contribute to a more sustainable approach to consumer electronics. It can also make consumer electronics more affordable for people, including the less privileged, thereby improving market forces.\\n\\nDevelopment & Research: 2 - The idea is somewhat developed with some supporting data. However, more research and development would be needed to determine the feasibility and cost-effectiveness of extracting and reusing parts from idle consumer electronic goods. Data on the potential environmental and economic benefits would also be beneficial.\\n\\nScalability: 3 - The idea shows considerable potential for growth and adaptation. Once the initial system for collecting and extracting parts from idle consumer goods is established, it can be scaled up to cover wider areas and involve more stakeholders, including manufacturers and retailers. The idea can also be applied to other types of electronic products beyond consumer goods.',\n",
       " 'Originality: 2 - The idea of using circular economy techniques to address electronic waste is not entirely unique, as there are already initiatives and solutions in place that promote the reuse and recycling of electronic products. However, the proposal of extracting parts from inoperative home consumer goods and using them in future products adds some novel thinking to the idea.\\n\\nFeasibility: 3 - While there may be some practical and technical obstacles to overcome, such as establishing a system for collecting and extracting parts from inoperative consumer goods, the overall idea is fairly practical and manageable. There are already established processes and technologies for recycling electronic waste, so building upon these existing frameworks could make the implementation smoother.\\n\\nImpact: 3 - The idea has the potential to have a significant impact by reducing electronic waste and promoting the reuse of electronic components. This can help in conserving resources, reducing environmental pollution, and addressing the growing problem of electronic waste. Additionally, the responsible framework for second-hand consumer electronic goods can make consumer electronics more affordable for a wider range of people, thereby improving market forces.\\n\\nDevelopment & Research: 2 - The idea is somewhat developed with some research or supporting data. While the proposal provides a general outline of how the solution could work, there is a lack of specific details and research on the feasibility, economic viability, and environmental impact of implementing the idea. More research and data would be needed to fully develop and validate the idea.\\n\\nScalability: 3 - The idea shows considerable potential for growth or adaptation. By implementing a system for collecting and reusing/repairing parts from inoperative consumer goods, this circular economy approach can be scaled up to handle larger volumes of electronic waste and expand to different regions. The responsible framework for second-hand consumer electronic goods can also be adapted to meet the needs and demands of different markets.\\n\\nOverall, the idea shows some novel thinking and differentiation, with a fair level of practicality and potential for impact and scalability. However, further development and research are needed to fully realize and validate the idea.']"
      ]
     },
     "execution_count": 83,
     "metadata": {},
     "output_type": "execute_result"
    }
   ],
   "source": [
    "all_evals"
   ]
  }
 ],
 "metadata": {
  "kernelspec": {
   "display_name": "Python 3 (ipykernel)",
   "language": "python",
   "name": "python3"
  },
  "language_info": {
   "codemirror_mode": {
    "name": "ipython",
    "version": 3
   },
   "file_extension": ".py",
   "mimetype": "text/x-python",
   "name": "python",
   "nbconvert_exporter": "python",
   "pygments_lexer": "ipython3",
   "version": "3.9.18"
  }
 },
 "nbformat": 4,
 "nbformat_minor": 5
}
