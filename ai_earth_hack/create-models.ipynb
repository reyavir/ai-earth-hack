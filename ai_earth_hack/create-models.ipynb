{
 "cells": [
  {
   "cell_type": "code",
   "execution_count": 9,
   "id": "39d57a50",
   "metadata": {},
   "outputs": [
    {
     "name": "stdout",
     "output_type": "stream",
     "text": [
      "Requirement already satisfied: openai in /Users/stellajia/opt/miniconda3/envs/oai-rag/lib/python3.9/site-packages (1.6.1)\n",
      "Requirement already satisfied: anyio<5,>=3.5.0 in /Users/stellajia/opt/miniconda3/envs/oai-rag/lib/python3.9/site-packages (from openai) (4.2.0)\n",
      "Requirement already satisfied: distro<2,>=1.7.0 in /Users/stellajia/opt/miniconda3/envs/oai-rag/lib/python3.9/site-packages (from openai) (1.9.0)\n",
      "Requirement already satisfied: httpx<1,>=0.23.0 in /Users/stellajia/opt/miniconda3/envs/oai-rag/lib/python3.9/site-packages (from openai) (0.26.0)\n",
      "Requirement already satisfied: pydantic<3,>=1.9.0 in /Users/stellajia/opt/miniconda3/envs/oai-rag/lib/python3.9/site-packages (from openai) (2.5.3)\n",
      "Requirement already satisfied: sniffio in /Users/stellajia/opt/miniconda3/envs/oai-rag/lib/python3.9/site-packages (from openai) (1.3.0)\n",
      "Requirement already satisfied: tqdm>4 in /Users/stellajia/opt/miniconda3/envs/oai-rag/lib/python3.9/site-packages (from openai) (4.66.1)\n",
      "Requirement already satisfied: typing-extensions<5,>=4.7 in /Users/stellajia/opt/miniconda3/envs/oai-rag/lib/python3.9/site-packages (from openai) (4.9.0)\n",
      "Requirement already satisfied: idna>=2.8 in /Users/stellajia/opt/miniconda3/envs/oai-rag/lib/python3.9/site-packages (from anyio<5,>=3.5.0->openai) (3.6)\n",
      "Requirement already satisfied: exceptiongroup>=1.0.2 in /Users/stellajia/opt/miniconda3/envs/oai-rag/lib/python3.9/site-packages (from anyio<5,>=3.5.0->openai) (1.2.0)\n",
      "Requirement already satisfied: certifi in /Users/stellajia/opt/miniconda3/envs/oai-rag/lib/python3.9/site-packages (from httpx<1,>=0.23.0->openai) (2023.11.17)\n",
      "Requirement already satisfied: httpcore==1.* in /Users/stellajia/opt/miniconda3/envs/oai-rag/lib/python3.9/site-packages (from httpx<1,>=0.23.0->openai) (1.0.2)\n",
      "Requirement already satisfied: h11<0.15,>=0.13 in /Users/stellajia/opt/miniconda3/envs/oai-rag/lib/python3.9/site-packages (from httpcore==1.*->httpx<1,>=0.23.0->openai) (0.14.0)\n",
      "Requirement already satisfied: annotated-types>=0.4.0 in /Users/stellajia/opt/miniconda3/envs/oai-rag/lib/python3.9/site-packages (from pydantic<3,>=1.9.0->openai) (0.6.0)\n",
      "Requirement already satisfied: pydantic-core==2.14.6 in /Users/stellajia/opt/miniconda3/envs/oai-rag/lib/python3.9/site-packages (from pydantic<3,>=1.9.0->openai) (2.14.6)\n",
      "Note: you may need to restart the kernel to use updated packages.\n"
     ]
    }
   ],
   "source": [
    "pip install openai --upgrade"
   ]
  },
  {
   "cell_type": "code",
   "execution_count": null,
   "id": "0fa53096",
   "metadata": {},
   "outputs": [],
   "source": []
  },
  {
   "cell_type": "code",
   "execution_count": 2,
   "id": "58e07c89",
   "metadata": {},
   "outputs": [],
   "source": [
    "import os\n",
    "import dotenv\n",
    "\n",
    "import streamlit as st\n",
    "from openai import OpenAI\n",
    "import requests"
   ]
  },
  {
   "cell_type": "code",
   "execution_count": 10,
   "id": "f528f7c6",
   "metadata": {},
   "outputs": [],
   "source": [
    "# Takes CSV file as input for the rubric (with specific format)\n",
    "\n",
    "# Create standardized prompt for each category"
   ]
  },
  {
   "cell_type": "code",
   "execution_count": null,
   "id": "70378608",
   "metadata": {},
   "outputs": [],
   "source": [
    "# Turns rubric that txt file user uploads into a string format for the prompt\n",
    "def process_rubric():"
   ]
  },
  {
   "cell_type": "code",
   "execution_count": 3,
   "id": "58dd2d6b",
   "metadata": {},
   "outputs": [],
   "source": [
    "OPENAI_API_KEY = os.getenv(\"OPENAI_API_KEY\")  # if the key already exists in the environment variables, it will use that, otherwise it will use the .env file to get the key\n",
    "if not OPENAI_API_KEY:\n",
    "    dotenv.load_dotenv(\".env\")\n",
    "    OPENAI_API_KEY = os.getenv(\"OPENAI_API_KEY\")"
   ]
  },
  {
   "cell_type": "code",
   "execution_count": 8,
   "id": "9cdeaa0d",
   "metadata": {},
   "outputs": [],
   "source": [
    "# Create prompt to evaluate an idea\n",
    "def prompt_for_expert_idea_evaluation(category, ps_pair, rubric):\n",
    "    \n",
    "    client = OpenAI(\n",
    "        api_key = OPENAI_API_KEY\n",
    "    )\n",
    "\n",
    "    # Format the prompt to ask GPT to pretend to be an expert in the given category\n",
    "    prompt_text = f\"\"\"\n",
    "    \n",
    "    You are an expert in {category}. You have been asked to evaluate the following business idea containing an identified problem and solution:\n",
    "    \n",
    "    {ps_pair}\n",
    "    \n",
    "    Based on the following rubric in a CSV format, rate the idea on each of the criteria based on the point system defined: \n",
    "    \n",
    "    {rubric}\n",
    "    \n",
    "    The output should contain just the point values assigned to each category separated by spaces like this '3 5 2 3'\n",
    "    \n",
    "    \"\"\"\n",
    "\n",
    "    # Call the OpenAI API\n",
    "    response = client.chat.completions.create(\n",
    "      model=\"gpt-3.5-turbo\",  # Choose the appropriate engine\n",
    "      messages=[{\"role\": \"user\", \"content\": prompt_text}],\n",
    "    )\n",
    "\n",
    "    # Return the text part of the response\n",
    "    return response.choices[0].message.content"
   ]
  },
  {
   "cell_type": "code",
   "execution_count": 6,
   "id": "e718db10",
   "metadata": {},
   "outputs": [],
   "source": [
    "sample_rubric = \"\"\"\n",
    "Criteria,1,2,3,4\\n\\\n",
    "Originality, Idea has common elements with no unique differentiation., Idea shows some novel thinking and differentiation., Idea is largely original, showing significant new thinking., Idea is completely unique demonstrating groundbreaking thinking.\n",
    "Feasibility, Idea has significant practical or technical obstacles., Idea is somewhat practical but faces notable challenges., Idea is fairly practical with manageable challenges., Idea is highly practical and can be implemented smoothly.\n",
    "Impact, Idea has a limited or unclear impact., Idea has a moderate impact with some tangible benefits., Idea has a significant impact with clear benefits., Idea has a transformative impact with far-reaching benefits.\n",
    "Development & Research, Idea is underdeveloped with minimal research or supporting data., Idea is somewhat developed with some research or supporting data., Idea is well-developed with substantial research or supporting data., Idea is fully developed with extensive research or supporting data.\n",
    "Scalability, Idea shows little to no potential for growth or adaptation., Idea shows some potential for growth or adaptation., Idea shows considerable potential for growth or adaptation., Idea shows extensive potential for growth or adaptation.\n",
    "\"\"\"\n",
    "\n",
    "sample_ps_pair = \"\"\"\n",
    "Problem: Single-use plastic packaging has become an all-too-common sight in our environment, resulting in detrimental environmental impacts. Studies show that approximately 8.3 billion tonnes of plastic have been produced since 1950, and 60% of that plastic ends up in either our landfills or the natural environment. This contributes greatly to pollution, harms wildlife, affects human health, and exacerbates climate change.   \n",
    "Solution: To alleviate this problem, we propose developing a consumer-friendly, easy-to-use app that manages and optimises the reverse logistics of packaging. Imagine this: when purchasing a product, consumers will pay a one-time fee for reusable packaging. After use, they can return the empty packaging via designated collection points or direct pickup services. The app will facilitate this process by tracking, scheduling pickups or locating nearby collection points. The packaging is then cleaned and reused, thereby reducing the need for new plastic production and ensuring the packaging circulates within the economy, instead of ending up as waste. This app will not only help consumers make more sustainable choices but also incentivise producers to shift towards a circular economy model.\n",
    "\"\"\""
   ]
  },
  {
   "cell_type": "code",
   "execution_count": 11,
   "id": "15bd2d3b",
   "metadata": {},
   "outputs": [],
   "source": [
    "print(prompt_for_expert_idea_evaluation(\"Waste Management\", sample_rubric, sample_ps_pair))"
   ]
  },
  {
   "cell_type": "code",
   "execution_count": null,
   "id": "d7c3c9ca",
   "metadata": {},
   "outputs": [],
   "source": [
    "def prompt_for_business_team_evaluation(roles, ps_pair, rubric):"
   ]
  }
 ],
 "metadata": {
  "kernelspec": {
   "display_name": "Python 3 (ipykernel)",
   "language": "python",
   "name": "python3"
  },
  "language_info": {
   "codemirror_mode": {
    "name": "ipython",
    "version": 3
   },
   "file_extension": ".py",
   "mimetype": "text/x-python",
   "name": "python",
   "nbconvert_exporter": "python",
   "pygments_lexer": "ipython3",
   "version": "3.9.18"
  }
 },
 "nbformat": 4,
 "nbformat_minor": 5
}
