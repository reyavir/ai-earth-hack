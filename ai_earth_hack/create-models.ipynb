{
 "cells": [
  {
   "cell_type": "code",
   "execution_count": 2,
   "id": "58e07c89",
   "metadata": {},
   "outputs": [],
   "source": [
    "import os\n",
    "import dotenv\n",
    "\n",
    "import streamlit as st\n",
    "from openai import OpenAI\n",
    "import requests"
   ]
  },
  {
   "cell_type": "code",
   "execution_count": 3,
   "id": "58dd2d6b",
   "metadata": {},
   "outputs": [],
   "source": [
    "OPENAI_API_KEY = os.getenv(\"OPENAI_API_KEY\")  # if the key already exists in the environment variables, it will use that, otherwise it will use the .env file to get the key\n",
    "if not OPENAI_API_KEY:\n",
    "    dotenv.load_dotenv(\".env\")\n",
    "    OPENAI_API_KEY = os.getenv(\"OPENAI_API_KEY\")"
   ]
  },
  {
   "cell_type": "code",
   "execution_count": null,
   "id": "2d1cdd7c",
   "metadata": {},
   "outputs": [],
   "source": [
    "def identify_domain(ps_pair):\n",
    "    \n",
    "    client = OpenAI(\n",
    "        api_key = OPENAI_API_KEY\n",
    "    )\n",
    "    \n",
    "    prompt_text = \"\"\"\n",
    "    You are a text classifier model. Given the following domains, identify which domains of expertise the following problem solution pairs fall into and output it by just separating each with commas.\n",
    "    \n",
    "    Domains:\n",
    "    \n",
    "    \"\"\""
   ]
  },
  {
   "cell_type": "code",
   "execution_count": 35,
   "id": "9cdeaa0d",
   "metadata": {},
   "outputs": [],
   "source": [
    "# Create prompt to evaluate an idea\n",
    "def prompt_for_expert_idea_evaluation(category, ps_pair, rubric):\n",
    "    \n",
    "    client = OpenAI(\n",
    "        api_key = OPENAI_API_KEY\n",
    "    )\n",
    "\n",
    "    # Format the prompt to ask GPT to pretend to be an expert in the given category\n",
    "    prompt_text = f\"\"\"\n",
    "    \n",
    "    You are an expert in {category}. You have been asked to evaluate the following business idea containing an identified problem and solution:\n",
    "    \n",
    "    {ps_pair}\n",
    "    \n",
    "    Based on the following rubric in a CSV format, rate the idea on each of the criteria (where row 1 is the option of points per criteria and the remaining rows represents the criteria itself) based on the point system defined: \n",
    "    \n",
    "    {rubric}\n",
    "    \n",
    "    The output should a rating for each criteria with a colon indicating the reason behind that chosen rating. Separate each criteria with a newline.\n",
    "    \n",
    "    \"\"\"\n",
    "\n",
    "    # Call the OpenAI API\n",
    "    response = client.chat.completions.create(\n",
    "      model=\"gpt-3.5-turbo\",  # Choose the appropriate engine\n",
    "      messages=[{\"role\": \"user\", \"content\": prompt_text}],\n",
    "    )\n",
    "\n",
    "    # Return the text part of the response\n",
    "    return response.choices[0].message.content"
   ]
  },
  {
   "cell_type": "code",
   "execution_count": 33,
   "id": "e718db10",
   "metadata": {},
   "outputs": [],
   "source": [
    "sample_rubric = \"\"\"\n",
    "Originality, Idea has common elements with no unique differentiation. (1), Idea shows some novel thinking and differentiation. (2), Idea is largely original, showing significant new thinking. (3), Idea is completely unique demonstrating groundbreaking thinking. (4)\n",
    "Feasibility, Idea has significant practical or technical obstacles. (1), Idea is somewhat practical but faces notable challenges. (2), Idea is fairly practical with manageable challenges. (3), Idea is highly practical and can be implemented smoothly. (4)\n",
    "Impact, Idea has a limited or unclear impact. (1), Idea has a moderate impact with some tangible benefits. (2), Idea has a significant impact with clear benefits. (3), Idea has a transformative impact with far-reaching benefits. (4)\n",
    "Development & Research, Idea is underdeveloped with minimal research or supporting data. (1), Idea is somewhat developed with some research or supporting data. (2), Idea is well-developed with substantial research or supporting data. (3), Idea is fully developed with extensive research or supporting data. (4)\n",
    "Scalability, Idea shows little to no potential for growth or adaptation. (1), Idea shows some potential for growth or adaptation. (2), Idea shows considerable potential for growth or adaptation. (3), Idea shows extensive potential for growth or adaptation. (4)\n",
    "\"\"\"\n",
    "\n",
    "sample_ps_pair = \"\"\"\n",
    "Problem: Single-use plastic packaging has become an all-too-common sight in our environment, resulting in detrimental environmental impacts. Studies show that approximately 8.3 billion tonnes of plastic have been produced since 1950, and 60% of that plastic ends up in either our landfills or the natural environment. This contributes greatly to pollution, harms wildlife, affects human health, and exacerbates climate change.   \n",
    "Solution: To alleviate this problem, we propose developing a consumer-friendly, easy-to-use app that manages and optimises the reverse logistics of packaging. Imagine this: when purchasing a product, consumers will pay a one-time fee for reusable packaging. After use, they can return the empty packaging via designated collection points or direct pickup services. The app will facilitate this process by tracking, scheduling pickups or locating nearby collection points. The packaging is then cleaned and reused, thereby reducing the need for new plastic production and ensuring the packaging circulates within the economy, instead of ending up as waste. This app will not only help consumers make more sustainable choices but also incentivise producers to shift towards a circular economy model.\n",
    "\"\"\""
   ]
  },
  {
   "cell_type": "code",
   "execution_count": 37,
   "id": "15bd2d3b",
   "metadata": {},
   "outputs": [
    {
     "name": "stdout",
     "output_type": "stream",
     "text": [
      "Feasibility: 3 - The idea is fairly practical with manageable challenges. The development of an app for managing and optimizing the reverse logistics of packaging is technically feasible and can be implemented smoothly. However, there may be challenges in terms of coordinating pickup services and establishing collection points.\n",
      "\n",
      "Originality: 2 - The idea shows some novel thinking and differentiation. While the concept of reusable packaging and reverse logistics is not entirely unique, the use of a consumer-friendly app to facilitate the process is a relatively novel approach.\n",
      "\n",
      "Impact: 3 - The idea has a significant impact with clear benefits. The app has the potential to reduce the amount of single-use plastic packaging that ends up in landfills or the natural environment. This would lead to a reduction in pollution, protection of wildlife, improved human health, and positive effects on climate change.\n",
      "\n",
      "Development & Research: 2 - The idea is somewhat developed with some research or supporting data. The proposal outlines the problem of plastic pollution and provides statistics on plastic production and its environmental impacts. However, more detailed research and data on the practical implementation of the app, user adoption rates, and the potential economic and environmental benefits would be beneficial.\n",
      "\n",
      "Scalability: 3 - The idea shows considerable potential for growth or adaptation. The app can be scaled to accommodate a large number of users and expanded to include various types of packaging and products. Additionally, it can be adapted to different regions and implemented in collaboration with retailers and manufacturers.\n",
      "\n",
      "Overall, the idea is fairly practical, shows some novel thinking, has a significant impact with clear benefits, is somewhat developed with supporting research, and shows considerable potential for growth and adaptation.\n"
     ]
    }
   ],
   "source": [
    "print(prompt_for_expert_idea_evaluation(\"Waste Management\", sample_rubric, sample_ps_pair))"
   ]
  },
  {
   "cell_type": "code",
   "execution_count": null,
   "id": "048e9ce0",
   "metadata": {},
   "outputs": [],
   "source": [
    "def extract_scores():"
   ]
  },
  {
   "cell_type": "code",
   "execution_count": null,
   "id": "5acee734",
   "metadata": {},
   "outputs": [],
   "source": [
    "def prompt_for_combining_opinions():\n",
    "    "
   ]
  },
  {
   "cell_type": "code",
   "execution_count": null,
   "id": "d7c3c9ca",
   "metadata": {},
   "outputs": [],
   "source": [
    "def prompt_for_business_team_evaluation(roles, ps_pair, rubric):"
   ]
  }
 ],
 "metadata": {
  "kernelspec": {
   "display_name": "Python 3 (ipykernel)",
   "language": "python",
   "name": "python3"
  },
  "language_info": {
   "codemirror_mode": {
    "name": "ipython",
    "version": 3
   },
   "file_extension": ".py",
   "mimetype": "text/x-python",
   "name": "python",
   "nbconvert_exporter": "python",
   "pygments_lexer": "ipython3",
   "version": "3.9.18"
  }
 },
 "nbformat": 4,
 "nbformat_minor": 5
}
