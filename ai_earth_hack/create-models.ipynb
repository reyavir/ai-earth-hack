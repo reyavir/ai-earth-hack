{
 "cells": [
  {
   "cell_type": "code",
   "execution_count": 35,
   "id": "58e07c89",
   "metadata": {},
   "outputs": [],
   "source": [
    "import os\n",
    "import dotenv\n",
    "\n",
    "import streamlit as st\n",
    "from openai import OpenAI\n",
    "import requests\n",
    "import re\n",
    "import csv"
   ]
  },
  {
   "cell_type": "code",
   "execution_count": 36,
   "id": "58dd2d6b",
   "metadata": {},
   "outputs": [],
   "source": [
    "OPENAI_API_KEY = os.getenv(\"OPENAI_API_KEY\")  # if the key already exists in the environment variables, it will use that, otherwise it will use the .env file to get the key\n",
    "if not OPENAI_API_KEY:\n",
    "    dotenv.load_dotenv(\".env\")\n",
    "    OPENAI_API_KEY = os.getenv(\"OPENAI_API_KEY\")"
   ]
  },
  {
   "cell_type": "code",
   "execution_count": 37,
   "id": "2d1cdd7c",
   "metadata": {},
   "outputs": [],
   "source": [
    "# ps_pair should be a single string connect the \"problem\" and \"solution\" value by a newline \n",
    "def identify_domain(ps_pair):\n",
    "    \n",
    "    client = OpenAI(\n",
    "        api_key = OPENAI_API_KEY\n",
    "    )\n",
    "    \n",
    "    prompt_text = f\"\"\"\n",
    "    You are a text classifier model. Given the following domains, identify which domains of expertise the following problem solution pairs fall into and output should only be the identified domains separating each with commas (no other text).\n",
    "    \n",
    "Domains:\n",
    "    \n",
    "Fashion\n",
    "Water\n",
    "Energy\n",
    "Manufacturing\n",
    "Waste Management\n",
    "Construction\n",
    "Technology\n",
    "Transportation\n",
    "Agriculture\n",
    "Education \n",
    "\n",
    "Problem-Solution Pair:\n",
    "{ps_pair}\n",
    "    \"\"\"\n",
    "    \n",
    "    # Call the OpenAI API\n",
    "    response = client.chat.completions.create(\n",
    "      model=\"gpt-3.5-turbo\",  # Choose the appropriate engine\n",
    "      messages=[{\"role\": \"user\", \"content\": prompt_text}],\n",
    "    )\n",
    "\n",
    "    # Return the text part of the response\n",
    "    return response.choices[0].message.content\n",
    "    "
   ]
  },
  {
   "cell_type": "code",
   "execution_count": 38,
   "id": "9cdeaa0d",
   "metadata": {},
   "outputs": [],
   "source": [
    "# Create prompt to evaluate an idea\n",
    "def prompt_for_domain_expert_idea_evaluation(category, ps_pair, rubric):\n",
    "    \n",
    "    client = OpenAI(\n",
    "        api_key = OPENAI_API_KEY\n",
    "    )\n",
    "\n",
    "    # Format the prompt to ask GPT to pretend to be an expert in the given category\n",
    "    prompt_text = f\"\"\"\n",
    "    \n",
    "    You are an expert in {category}. You have been asked to evaluate the following circular economy idea containing an identified problem and solution:\n",
    "    \n",
    "    {ps_pair}\n",
    "    \n",
    "    Based on the following rubric in a CSV format, rate the idea on each of the criteria (where row 1 is the option of points per criteria and the remaining rows represents the criteria itself) based on the point system defined: \n",
    "    \n",
    "    {rubric}\n",
    "    \n",
    "    The output should be in the following format:\n",
    "    \n",
    "    Originality: [chosen number rating] - [reason for rating]\n",
    "    Feasibiltiy: [chosen number rating] - [reason for rating]\n",
    "    Impact: [chosen number rating] - [reason for rating]\n",
    "    Development & Research: [chosen number rating] - [reason for rating]\n",
    "    Scalability: [chosen number rating] - [reason for rating]\n",
    "    \"\"\"\n",
    "\n",
    "    # Call the OpenAI API\n",
    "    response = client.chat.completions.create(\n",
    "      model=\"gpt-3.5-turbo\",  # Choose the appropriate engine\n",
    "      messages=[{\"role\": \"user\", \"content\": prompt_text}],\n",
    "    )\n",
    "\n",
    "    # Return the text part of the response\n",
    "    return response.choices[0].message.content"
   ]
  },
  {
   "cell_type": "code",
   "execution_count": 39,
   "id": "048e9ce0",
   "metadata": {},
   "outputs": [],
   "source": [
    "# Given then output above, extract the numbers to calculate the total score by this expert\n",
    "def extract_total_score(evaluation):\n",
    "    # Extract all numbers using regular expression\n",
    "    numbers = re.findall(r'\\d+', evaluation)\n",
    "    \n",
    "    # Convert extracted numbers to integers and calculate the sum\n",
    "    total = sum(int(number) for number in numbers)\n",
    "    \n",
    "    return total"
   ]
  },
  {
   "cell_type": "code",
   "execution_count": 40,
   "id": "d7c3c9ca",
   "metadata": {},
   "outputs": [],
   "source": [
    "def prompt_for_business_team_evaluation(team_role, ps_pair, rubric):\n",
    "    \n",
    "    client = OpenAI(\n",
    "        api_key = OPENAI_API_KEY\n",
    "    )\n",
    "\n",
    "    # Format the prompt to ask GPT to pretend to be an expert in the given category\n",
    "    prompt_text = f\"\"\"\n",
    "    \n",
    "    You are an a experienced {team_role}. You have been asked to evaluate the following circular economy idea containing an identified problem and solution:\n",
    "    \n",
    "    {ps_pair}\n",
    "    \n",
    "    Based on the following rubric in a CSV format, rate the idea on each of the criteria (where row 1 is the option of points per criteria and the remaining rows represents the criteria itself) based on the point system defined: \n",
    "    \n",
    "    {rubric}\n",
    "    \n",
    "    The output should be in the following format:\n",
    "    \n",
    "    Originality: [chosen number rating] - [reason for rating]\n",
    "    Feasibiltiy: [chosen number rating] - [reason for rating]\n",
    "    Impact: [chosen number rating] - [reason for rating]\n",
    "    Development & Research: [chosen number rating] - [reason for rating]\n",
    "    Scalability: [chosen number rating] - [reason for rating]\n",
    "    \"\"\"\n",
    "\n",
    "    # Call the OpenAI API\n",
    "    response = client.chat.completions.create(\n",
    "      model=\"gpt-3.5-turbo\",  # Choose the appropriate engine\n",
    "      messages=[{\"role\": \"user\", \"content\": prompt_text}],\n",
    "    )\n",
    "\n",
    "    # Return the text part of the response\n",
    "    return response.choices[0].message.content"
   ]
  },
  {
   "cell_type": "code",
   "execution_count": 41,
   "id": "f15e6ce8",
   "metadata": {},
   "outputs": [],
   "source": [
    "def summarize_reasoning(combined_evals):\n",
    "    client = OpenAI(\n",
    "        api_key = OPENAI_API_KEY\n",
    "    )\n",
    "\n",
    "    # Format the prompt to ask GPT to pretend to be an expert in the given category\n",
    "    prompt_text = f\"\"\"\n",
    "    Given the following evaluations of a business idea by different experts, summarize the main critiques or highlights in a few sentences.\n",
    "    \n",
    "    All Evaluations:\n",
    "    {combined_evals}\n",
    "    \"\"\"\n",
    "\n",
    "    # Call the OpenAI API\n",
    "    response = client.chat.completions.create(\n",
    "      model=\"gpt-3.5-turbo\",  # Choose the appropriate engine\n",
    "      messages=[{\"role\": \"user\", \"content\": prompt_text}],\n",
    "    )\n",
    "\n",
    "    # Return the text part of the response\n",
    "    return response.choices[0].message.content"
   ]
  },
  {
   "cell_type": "markdown",
   "id": "8b4f153a",
   "metadata": {},
   "source": [
    "## Testing Evaluation"
   ]
  },
  {
   "cell_type": "code",
   "execution_count": 42,
   "id": "e718db10",
   "metadata": {},
   "outputs": [],
   "source": [
    "if os.path.exists(os.path.join(os.getcwd(), \"rubric.txt\")):\n",
    "    with open(os.path.join(os.getcwd(), \"rubric.txt\"),\"r\") as f: \n",
    "        sample_rubric = f.read()\n",
    "else:\n",
    "    sample_rubric = \"\"\"\n",
    "    Originality, Idea has common elements with no unique differentiation. (1), Idea shows some novel thinking and differentiation. (2), Idea is largely original, showing significant new thinking. (3), Idea is completely unique demonstrating groundbreaking thinking. (4)\n",
    "    Feasibility, Idea has significant practical or technical obstacles. (1), Idea is somewhat practical but faces notable challenges. (2), Idea is fairly practical with manageable challenges. (3), Idea is highly practical and can be implemented smoothly. (4)\n",
    "    Impact, Idea has a limited or unclear impact. (1), Idea has a moderate impact with some tangible benefits. (2), Idea has a significant impact with clear benefits. (3), Idea has a transformative impact with far-reaching benefits. (4)\n",
    "    Development & Research, Idea is underdeveloped with minimal research or supporting data. (1), Idea is somewhat developed with some research or supporting data. (2), Idea is well-developed with substantial research or supporting data. (3), Idea is fully developed with extensive research or supporting data. (4)\n",
    "    Scalability, Idea shows little to no potential for growth or adaptation. (1), Idea shows some potential for growth or adaptation. (2), Idea shows considerable potential for growth or adaptation. (3), Idea shows extensive potential for growth or adaptation. (4)\n",
    "    \"\"\"\n",
    "\n",
    "sample_ps_pair = \"\"\"\n",
    "Problem: Single-use plastic packaging has become an all-too-common sight in our environment, resulting in detrimental environmental impacts. Studies show that approximately 8.3 billion tonnes of plastic have been produced since 1950, and 60% of that plastic ends up in either our landfills or the natural environment. This contributes greatly to pollution, harms wildlife, affects human health, and exacerbates climate change.   \n",
    "Solution: To alleviate this problem, we propose developing a consumer-friendly, easy-to-use app that manages and optimises the reverse logistics of packaging. Imagine this: when purchasing a product, consumers will pay a one-time fee for reusable packaging. After use, they can return the empty packaging via designated collection points or direct pickup services. The app will facilitate this process by tracking, scheduling pickups or locating nearby collection points. The packaging is then cleaned and reused, thereby reducing the need for new plastic production and ensuring the packaging circulates within the economy, instead of ending up as waste. This app will not only help consumers make more sustainable choices but also incentivise producers to shift towards a circular economy model.\n",
    "\"\"\"\n",
    "sample_ps_pair2 = \"\"\" \n",
    "Problem: The solution is meant to solve the issue of electronic waste and reduce the heap of idle electronic products in our homes\n",
    "Solution: E waste has always been a growing problem in the world. The inclusion of circular economy techniques in our day to day life can bring about a huge change in this context. The consumer electronic goods that remains idle in our homes or is inoperative can be thought of as a means to implement the idea. If there exists a system which can collect the inoperative home consumer goods, extract the different parts like transistors, diodes, etc and make it to use in future products, I think it may reduce the problem of e waste marginally. Even if the parts are damaged, in some cases, trying to repair them can be much more cheap way than building a new component altogether. Thus even the manufacturing cost can be reduced. Also, there can be a quick supply of electronic components in the market. \n",
    "There can also be a responsible framework of second hand consumer electronic goods. Thus even the poor people can afford the best of consumer electronics without spending much from their pocket. This will include more people in the consumer electronics market which can in turn improve the market forces.\n",
    "\"\"\""
   ]
  },
  {
   "cell_type": "code",
   "execution_count": 43,
   "id": "0412d179",
   "metadata": {},
   "outputs": [],
   "source": [
    "all_evals = []\n",
    "sample_domains = identify_domain(sample_ps_pair2)\n",
    "domain_expert_eval = prompt_for_domain_expert_idea_evaluation(sample_domains, sample_rubric, sample_ps_pair2)\n",
    "all_evals.append(domain_expert_eval)\n",
    "\n",
    "team_roles = ['Product Designer', 'Business Analyst', 'Marketing Specialist', 'Supply Chain Manager']\n",
    "\n",
    "if os.path.exists(os.path.join(os.getcwd(), \"dataset.txt\")):\n",
    "    rows = []\n",
    "    with open(\"dataset.txt\", \"r\") as f:\n",
    "        reader = csv.reader(f, delimiter=\",\")  \n",
    "        for row in reader:\n",
    "            rows.append(row)\n",
    "else:\n",
    "    rows = [sample_ps_pair2]\n",
    "\n",
    "# if dataset.txt exists, then loop through all lines in dataset.txt\n",
    "for qa in rows:\n",
    "    # Find evaluation for each business team role\n",
    "    for role in team_roles:\n",
    "        all_evals.append(prompt_for_business_team_evaluation(role, sample_rubric, sample_ps_pair2))"
   ]
  },
  {
   "cell_type": "code",
   "execution_count": 44,
   "id": "156d37b2",
   "metadata": {},
   "outputs": [
    {
     "name": "stdout",
     "output_type": "stream",
     "text": [
      "13\n",
      "13\n",
      "13\n",
      "13\n",
      "12\n"
     ]
    }
   ],
   "source": [
    "# Calculate total score (max is 100)\n",
    "total_score = 0\n",
    "for eval in all_evals:\n",
    "    print(extract_total_score(eval))\n",
    "    total_score += extract_total_score(eval)"
   ]
  },
  {
   "cell_type": "code",
   "execution_count": 45,
   "id": "780c3661",
   "metadata": {},
   "outputs": [
    {
     "data": {
      "text/plain": [
       "64"
      ]
     },
     "execution_count": 45,
     "metadata": {},
     "output_type": "execute_result"
    }
   ],
   "source": [
    "total_score"
   ]
  },
  {
   "cell_type": "code",
   "execution_count": 46,
   "id": "e6cf3bd4",
   "metadata": {},
   "outputs": [
    {
     "name": "stdout",
     "output_type": "stream",
     "text": [
      "Overall, the main critiques are that the idea is not completely unique and lacks substantial research and supporting data. However, the idea is generally feasible, has a significant impact in reducing electronic waste and promoting a responsible framework for second-hand goods, and shows considerable potential for scalability and adaptation.\n"
     ]
    }
   ],
   "source": [
    "print(summarize_reasoning(\"\\n\".join(all_evals)))"
   ]
  },
  {
   "cell_type": "code",
   "execution_count": null,
   "id": "44056eea",
   "metadata": {},
   "outputs": [],
   "source": []
  }
 ],
 "metadata": {
  "kernelspec": {
   "display_name": "Python 3 (ipykernel)",
   "language": "python",
   "name": "python3"
  },
  "language_info": {
   "codemirror_mode": {
    "name": "ipython",
    "version": 3
   },
   "file_extension": ".py",
   "mimetype": "text/x-python",
   "name": "python",
   "nbconvert_exporter": "python",
   "pygments_lexer": "ipython3",
   "version": "3.9.18"
  }
 },
 "nbformat": 4,
 "nbformat_minor": 5
}
